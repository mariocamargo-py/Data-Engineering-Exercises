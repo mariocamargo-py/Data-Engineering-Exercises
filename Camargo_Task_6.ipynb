{
 "cells": [
  {
   "cell_type": "markdown",
   "metadata": {},
   "source": [
    "Create a five level 'connections' graph (all unique, no duplicates).\n",
    "\n",
    "The first level should have five people and each person in first level should have five connections (they can be exclusive to one person or shared with other members on the same level, but all five should be unique, no duplicates)\n",
    "\n",
    "Each person in the second level should have five connections (they can be exclusive to one person or shared with other members on the same level, but all five should be unique, no duplicates)\n",
    "\n",
    "Continue the same for third, fourth, and fifth levels"
   ]
  },
  {
   "cell_type": "code",
   "execution_count": 51,
   "metadata": {},
   "outputs": [],
   "source": [
    "\"\"\"Created on Sun Oct 25 18:43:04 2020\n",
    "@author: Mario Camargo\"\"\"\n",
    "\n",
    "from collections import deque\n",
    "\n",
    "graph = {}\n",
    "\n",
    "graph[\"level_zero\"] = [\"A1\",\"A2\",\"A3\",\"A4\",\"A5\"]\n",
    "\n",
    "graph[\"A1\"] = [\"B1\",\"B2\",\"B3\",\"B4\",\"B5\"]\n",
    "graph[\"A2\"] = [\"B1\",\"B2\",\"B3\",\"B4\",\"B5\"]\n",
    "graph[\"A3\"] = [\"B1\",\"B2\",\"B3\",\"B4\",\"B5\"]\n",
    "graph[\"A4\"] = [\"B1\",\"B2\",\"B3\",\"B4\",\"B5\"]\n",
    "graph[\"A5\"] = [\"B1\",\"B2\",\"B3\",\"B4\",\"B5\"]\n",
    "\n",
    "graph[\"B1\"] = [\"C1\",\"C2\",\"C3\",\"C4\",\"C5\"]\n",
    "graph[\"B2\"] = [\"C1\",\"C2\",\"C3\",\"C4\",\"C5\"]\n",
    "graph[\"B3\"] = [\"C1\",\"C2\",\"C3\",\"C4\",\"C5\"]\n",
    "graph[\"B4\"] = [\"C1\",\"C2\",\"C3\",\"C4\",\"C5\"]\n",
    "graph[\"B5\"] = [\"C1\",\"C2\",\"C3\",\"C4\",\"C5\"]\n",
    "\n",
    "graph[\"C1\"] = [\"D1\",\"D2\",\"D3\",\"D4\",\"D5\"]\n",
    "graph[\"C2\"] = [\"D1\",\"D2\",\"D3\",\"D4\",\"D5\"]\n",
    "graph[\"C3\"] = [\"D1\",\"D2\",\"D3\",\"D4\",\"D5\"]\n",
    "graph[\"C4\"] = [\"D1\",\"D2\",\"D3\",\"D4\",\"D5\"]\n",
    "graph[\"C5\"] = [\"D1\",\"D2\",\"D3\",\"D4\",\"D5\"]\n",
    "\n",
    "graph[\"D1\"] = [\"E1\",\"E2\",\"E3\",\"E4\",\"E5\"]\n",
    "graph[\"D2\"] = [\"E1\",\"E2\",\"E3\",\"E4\",\"E5\"]\n",
    "graph[\"D3\"] = [\"E1\",\"E2\",\"E3\",\"E4\",\"E5\"]\n",
    "graph[\"D4\"] = [\"E1\",\"E2\",\"E3\",\"E4\",\"E5\"]\n",
    "graph[\"D5\"] = [\"E1\",\"E2\",\"E3\",\"E4\",\"E5\"]\n",
    "\n",
    "graph[\"E1\"] = []\n",
    "graph[\"E2\"] = []\n",
    "graph[\"E3\"] = []\n",
    "graph[\"E4\"] = []\n",
    "graph[\"E5\"] = []\n"
   ]
  },
  {
   "cell_type": "markdown",
   "metadata": {},
   "source": [
    "Now search for three people on each level and capture the time for each search."
   ]
  },
  {
   "cell_type": "code",
   "execution_count": 52,
   "metadata": {},
   "outputs": [],
   "source": [
    "def search(name):\n",
    "    search_queue = deque()\n",
    "    search_queue += graph[\"level_zero\"]\n",
    "    # This array is how you keep track of which people you've searched before.\n",
    "    searched = []\n",
    "    while search_queue:\n",
    "        person = search_queue.popleft()\n",
    "        # Only search this person if you haven't already searched them.\n",
    "        if person not in searched:\n",
    "            if person == name:\n",
    "                print(person + \" was found!\")\n",
    "                return True\n",
    "            else:\n",
    "                search_queue += graph[person]\n",
    "                # Marks this person as searched\n",
    "                print(graph[person])\n",
    "                searched.append(person)\n",
    "    return False"
   ]
  },
  {
   "cell_type": "code",
   "execution_count": 53,
   "metadata": {},
   "outputs": [
    {
     "name": "stdout",
     "output_type": "stream",
     "text": [
      "['B1', 'B2', 'B3', 'B4', 'B5']\n",
      "['B1', 'B2', 'B3', 'B4', 'B5']\n",
      "A3 was found!\n",
      "['B1', 'B2', 'B3', 'B4', 'B5']\n",
      "['B1', 'B2', 'B3', 'B4', 'B5']\n",
      "['B1', 'B2', 'B3', 'B4', 'B5']\n",
      "A4 was found!\n",
      "['B1', 'B2', 'B3', 'B4', 'B5']\n",
      "['B1', 'B2', 'B3', 'B4', 'B5']\n",
      "['B1', 'B2', 'B3', 'B4', 'B5']\n",
      "['B1', 'B2', 'B3', 'B4', 'B5']\n",
      "A5 was found!\n"
     ]
    }
   ],
   "source": [
    "import time\n",
    "# store linear execution search in 1st level\n",
    "start_time = time.time()\n",
    "    \n",
    "search('A3')\n",
    "search('A4')\n",
    "search('A5')\n",
    "    \n",
    "level1 = time.time() - start_time"
   ]
  },
  {
   "cell_type": "code",
   "execution_count": 54,
   "metadata": {},
   "outputs": [
    {
     "name": "stdout",
     "output_type": "stream",
     "text": [
      "['B1', 'B2', 'B3', 'B4', 'B5']\n",
      "['B1', 'B2', 'B3', 'B4', 'B5']\n",
      "['B1', 'B2', 'B3', 'B4', 'B5']\n",
      "['B1', 'B2', 'B3', 'B4', 'B5']\n",
      "['B1', 'B2', 'B3', 'B4', 'B5']\n",
      "['C1', 'C2', 'C3', 'C4', 'C5']\n",
      "['C1', 'C2', 'C3', 'C4', 'C5']\n",
      "B3 was found!\n",
      "['B1', 'B2', 'B3', 'B4', 'B5']\n",
      "['B1', 'B2', 'B3', 'B4', 'B5']\n",
      "['B1', 'B2', 'B3', 'B4', 'B5']\n",
      "['B1', 'B2', 'B3', 'B4', 'B5']\n",
      "['B1', 'B2', 'B3', 'B4', 'B5']\n",
      "['C1', 'C2', 'C3', 'C4', 'C5']\n",
      "['C1', 'C2', 'C3', 'C4', 'C5']\n",
      "['C1', 'C2', 'C3', 'C4', 'C5']\n",
      "B4 was found!\n",
      "['B1', 'B2', 'B3', 'B4', 'B5']\n",
      "['B1', 'B2', 'B3', 'B4', 'B5']\n",
      "['B1', 'B2', 'B3', 'B4', 'B5']\n",
      "['B1', 'B2', 'B3', 'B4', 'B5']\n",
      "['B1', 'B2', 'B3', 'B4', 'B5']\n",
      "['C1', 'C2', 'C3', 'C4', 'C5']\n",
      "['C1', 'C2', 'C3', 'C4', 'C5']\n",
      "['C1', 'C2', 'C3', 'C4', 'C5']\n",
      "['C1', 'C2', 'C3', 'C4', 'C5']\n",
      "B5 was found!\n"
     ]
    }
   ],
   "source": [
    "# store linear execution search in 2nd level\n",
    "start_time = time.time()\n",
    "    \n",
    "search('B3')\n",
    "search('B4')\n",
    "search('B5')\n",
    "    \n",
    "level2 = time.time() - start_time"
   ]
  },
  {
   "cell_type": "code",
   "execution_count": 55,
   "metadata": {},
   "outputs": [
    {
     "name": "stdout",
     "output_type": "stream",
     "text": [
      "['B1', 'B2', 'B3', 'B4', 'B5']\n",
      "['B1', 'B2', 'B3', 'B4', 'B5']\n",
      "['B1', 'B2', 'B3', 'B4', 'B5']\n",
      "['B1', 'B2', 'B3', 'B4', 'B5']\n",
      "['B1', 'B2', 'B3', 'B4', 'B5']\n",
      "['C1', 'C2', 'C3', 'C4', 'C5']\n",
      "['C1', 'C2', 'C3', 'C4', 'C5']\n",
      "['C1', 'C2', 'C3', 'C4', 'C5']\n",
      "['C1', 'C2', 'C3', 'C4', 'C5']\n",
      "['C1', 'C2', 'C3', 'C4', 'C5']\n",
      "['D1', 'D2', 'D3', 'D4', 'D5']\n",
      "['D1', 'D2', 'D3', 'D4', 'D5']\n",
      "C3 was found!\n",
      "['B1', 'B2', 'B3', 'B4', 'B5']\n",
      "['B1', 'B2', 'B3', 'B4', 'B5']\n",
      "['B1', 'B2', 'B3', 'B4', 'B5']\n",
      "['B1', 'B2', 'B3', 'B4', 'B5']\n",
      "['B1', 'B2', 'B3', 'B4', 'B5']\n",
      "['C1', 'C2', 'C3', 'C4', 'C5']\n",
      "['C1', 'C2', 'C3', 'C4', 'C5']\n",
      "['C1', 'C2', 'C3', 'C4', 'C5']\n",
      "['C1', 'C2', 'C3', 'C4', 'C5']\n",
      "['C1', 'C2', 'C3', 'C4', 'C5']\n",
      "['D1', 'D2', 'D3', 'D4', 'D5']\n",
      "['D1', 'D2', 'D3', 'D4', 'D5']\n",
      "['D1', 'D2', 'D3', 'D4', 'D5']\n",
      "C4 was found!\n",
      "['B1', 'B2', 'B3', 'B4', 'B5']\n",
      "['B1', 'B2', 'B3', 'B4', 'B5']\n",
      "['B1', 'B2', 'B3', 'B4', 'B5']\n",
      "['B1', 'B2', 'B3', 'B4', 'B5']\n",
      "['B1', 'B2', 'B3', 'B4', 'B5']\n",
      "['C1', 'C2', 'C3', 'C4', 'C5']\n",
      "['C1', 'C2', 'C3', 'C4', 'C5']\n",
      "['C1', 'C2', 'C3', 'C4', 'C5']\n",
      "['C1', 'C2', 'C3', 'C4', 'C5']\n",
      "['C1', 'C2', 'C3', 'C4', 'C5']\n",
      "['D1', 'D2', 'D3', 'D4', 'D5']\n",
      "['D1', 'D2', 'D3', 'D4', 'D5']\n",
      "['D1', 'D2', 'D3', 'D4', 'D5']\n",
      "['D1', 'D2', 'D3', 'D4', 'D5']\n",
      "C5 was found!\n"
     ]
    }
   ],
   "source": [
    "# store linear execution search in 3rd level\n",
    "start_time = time.time()\n",
    "    \n",
    "search('C3')\n",
    "search('C4')\n",
    "search('C5')\n",
    "    \n",
    "level3 = time.time() - start_time"
   ]
  },
  {
   "cell_type": "code",
   "execution_count": 56,
   "metadata": {},
   "outputs": [
    {
     "name": "stdout",
     "output_type": "stream",
     "text": [
      "['B1', 'B2', 'B3', 'B4', 'B5']\n",
      "['B1', 'B2', 'B3', 'B4', 'B5']\n",
      "['B1', 'B2', 'B3', 'B4', 'B5']\n",
      "['B1', 'B2', 'B3', 'B4', 'B5']\n",
      "['B1', 'B2', 'B3', 'B4', 'B5']\n",
      "['C1', 'C2', 'C3', 'C4', 'C5']\n",
      "['C1', 'C2', 'C3', 'C4', 'C5']\n",
      "['C1', 'C2', 'C3', 'C4', 'C5']\n",
      "['C1', 'C2', 'C3', 'C4', 'C5']\n",
      "['C1', 'C2', 'C3', 'C4', 'C5']\n",
      "['D1', 'D2', 'D3', 'D4', 'D5']\n",
      "['D1', 'D2', 'D3', 'D4', 'D5']\n",
      "['D1', 'D2', 'D3', 'D4', 'D5']\n",
      "['D1', 'D2', 'D3', 'D4', 'D5']\n",
      "['D1', 'D2', 'D3', 'D4', 'D5']\n",
      "['E1', 'E2', 'E3', 'E4', 'E5']\n",
      "['E1', 'E2', 'E3', 'E4', 'E5']\n",
      "D3 was found!\n",
      "['B1', 'B2', 'B3', 'B4', 'B5']\n",
      "['B1', 'B2', 'B3', 'B4', 'B5']\n",
      "['B1', 'B2', 'B3', 'B4', 'B5']\n",
      "['B1', 'B2', 'B3', 'B4', 'B5']\n",
      "['B1', 'B2', 'B3', 'B4', 'B5']\n",
      "['C1', 'C2', 'C3', 'C4', 'C5']\n",
      "['C1', 'C2', 'C3', 'C4', 'C5']\n",
      "['C1', 'C2', 'C3', 'C4', 'C5']\n",
      "['C1', 'C2', 'C3', 'C4', 'C5']\n",
      "['C1', 'C2', 'C3', 'C4', 'C5']\n",
      "['D1', 'D2', 'D3', 'D4', 'D5']\n",
      "['D1', 'D2', 'D3', 'D4', 'D5']\n",
      "['D1', 'D2', 'D3', 'D4', 'D5']\n",
      "['D1', 'D2', 'D3', 'D4', 'D5']\n",
      "['D1', 'D2', 'D3', 'D4', 'D5']\n",
      "['E1', 'E2', 'E3', 'E4', 'E5']\n",
      "['E1', 'E2', 'E3', 'E4', 'E5']\n",
      "['E1', 'E2', 'E3', 'E4', 'E5']\n",
      "D4 was found!\n",
      "['B1', 'B2', 'B3', 'B4', 'B5']\n",
      "['B1', 'B2', 'B3', 'B4', 'B5']\n",
      "['B1', 'B2', 'B3', 'B4', 'B5']\n",
      "['B1', 'B2', 'B3', 'B4', 'B5']\n",
      "['B1', 'B2', 'B3', 'B4', 'B5']\n",
      "['C1', 'C2', 'C3', 'C4', 'C5']\n",
      "['C1', 'C2', 'C3', 'C4', 'C5']\n",
      "['C1', 'C2', 'C3', 'C4', 'C5']\n",
      "['C1', 'C2', 'C3', 'C4', 'C5']\n",
      "['C1', 'C2', 'C3', 'C4', 'C5']\n",
      "['D1', 'D2', 'D3', 'D4', 'D5']\n",
      "['D1', 'D2', 'D3', 'D4', 'D5']\n",
      "['D1', 'D2', 'D3', 'D4', 'D5']\n",
      "['D1', 'D2', 'D3', 'D4', 'D5']\n",
      "['D1', 'D2', 'D3', 'D4', 'D5']\n",
      "['E1', 'E2', 'E3', 'E4', 'E5']\n",
      "['E1', 'E2', 'E3', 'E4', 'E5']\n",
      "['E1', 'E2', 'E3', 'E4', 'E5']\n",
      "['E1', 'E2', 'E3', 'E4', 'E5']\n",
      "D5 was found!\n"
     ]
    }
   ],
   "source": [
    "# store linear execution search in 4th level\n",
    "start_time = time.time()\n",
    "    \n",
    "search('D3')\n",
    "search('D4')\n",
    "search('D5')\n",
    "    \n",
    "level4 = time.time() - start_time"
   ]
  },
  {
   "cell_type": "code",
   "execution_count": 57,
   "metadata": {},
   "outputs": [
    {
     "name": "stdout",
     "output_type": "stream",
     "text": [
      "['B1', 'B2', 'B3', 'B4', 'B5']\n",
      "['B1', 'B2', 'B3', 'B4', 'B5']\n",
      "['B1', 'B2', 'B3', 'B4', 'B5']\n",
      "['B1', 'B2', 'B3', 'B4', 'B5']\n",
      "['B1', 'B2', 'B3', 'B4', 'B5']\n",
      "['C1', 'C2', 'C3', 'C4', 'C5']\n",
      "['C1', 'C2', 'C3', 'C4', 'C5']\n",
      "['C1', 'C2', 'C3', 'C4', 'C5']\n",
      "['C1', 'C2', 'C3', 'C4', 'C5']\n",
      "['C1', 'C2', 'C3', 'C4', 'C5']\n",
      "['D1', 'D2', 'D3', 'D4', 'D5']\n",
      "['D1', 'D2', 'D3', 'D4', 'D5']\n",
      "['D1', 'D2', 'D3', 'D4', 'D5']\n",
      "['D1', 'D2', 'D3', 'D4', 'D5']\n",
      "['D1', 'D2', 'D3', 'D4', 'D5']\n",
      "['E1', 'E2', 'E3', 'E4', 'E5']\n",
      "['E1', 'E2', 'E3', 'E4', 'E5']\n",
      "['E1', 'E2', 'E3', 'E4', 'E5']\n",
      "['E1', 'E2', 'E3', 'E4', 'E5']\n",
      "['E1', 'E2', 'E3', 'E4', 'E5']\n",
      "[]\n",
      "[]\n",
      "E3 was found!\n",
      "['B1', 'B2', 'B3', 'B4', 'B5']\n",
      "['B1', 'B2', 'B3', 'B4', 'B5']\n",
      "['B1', 'B2', 'B3', 'B4', 'B5']\n",
      "['B1', 'B2', 'B3', 'B4', 'B5']\n",
      "['B1', 'B2', 'B3', 'B4', 'B5']\n",
      "['C1', 'C2', 'C3', 'C4', 'C5']\n",
      "['C1', 'C2', 'C3', 'C4', 'C5']\n",
      "['C1', 'C2', 'C3', 'C4', 'C5']\n",
      "['C1', 'C2', 'C3', 'C4', 'C5']\n",
      "['C1', 'C2', 'C3', 'C4', 'C5']\n",
      "['D1', 'D2', 'D3', 'D4', 'D5']\n",
      "['D1', 'D2', 'D3', 'D4', 'D5']\n",
      "['D1', 'D2', 'D3', 'D4', 'D5']\n",
      "['D1', 'D2', 'D3', 'D4', 'D5']\n",
      "['D1', 'D2', 'D3', 'D4', 'D5']\n",
      "['E1', 'E2', 'E3', 'E4', 'E5']\n",
      "['E1', 'E2', 'E3', 'E4', 'E5']\n",
      "['E1', 'E2', 'E3', 'E4', 'E5']\n",
      "['E1', 'E2', 'E3', 'E4', 'E5']\n",
      "['E1', 'E2', 'E3', 'E4', 'E5']\n",
      "[]\n",
      "[]\n",
      "[]\n",
      "E4 was found!\n",
      "['B1', 'B2', 'B3', 'B4', 'B5']\n",
      "['B1', 'B2', 'B3', 'B4', 'B5']\n",
      "['B1', 'B2', 'B3', 'B4', 'B5']\n",
      "['B1', 'B2', 'B3', 'B4', 'B5']\n",
      "['B1', 'B2', 'B3', 'B4', 'B5']\n",
      "['C1', 'C2', 'C3', 'C4', 'C5']\n",
      "['C1', 'C2', 'C3', 'C4', 'C5']\n",
      "['C1', 'C2', 'C3', 'C4', 'C5']\n",
      "['C1', 'C2', 'C3', 'C4', 'C5']\n",
      "['C1', 'C2', 'C3', 'C4', 'C5']\n",
      "['D1', 'D2', 'D3', 'D4', 'D5']\n",
      "['D1', 'D2', 'D3', 'D4', 'D5']\n",
      "['D1', 'D2', 'D3', 'D4', 'D5']\n",
      "['D1', 'D2', 'D3', 'D4', 'D5']\n",
      "['D1', 'D2', 'D3', 'D4', 'D5']\n",
      "['E1', 'E2', 'E3', 'E4', 'E5']\n",
      "['E1', 'E2', 'E3', 'E4', 'E5']\n",
      "['E1', 'E2', 'E3', 'E4', 'E5']\n",
      "['E1', 'E2', 'E3', 'E4', 'E5']\n",
      "['E1', 'E2', 'E3', 'E4', 'E5']\n",
      "[]\n",
      "[]\n",
      "[]\n",
      "[]\n",
      "E5 was found!\n"
     ]
    }
   ],
   "source": [
    "# store linear execution search in 5th level\n",
    "start_time = time.time()\n",
    "    \n",
    "search('E3')\n",
    "search('E4')\n",
    "search('E5')\n",
    "    \n",
    "level5 = time.time() - start_time"
   ]
  },
  {
   "cell_type": "markdown",
   "metadata": {},
   "source": [
    "Organize the results of the study into an table showing the 'name' that you searched for, the level of the search (first, second, third, fourth, fifth), and the time it took. "
   ]
  },
  {
   "cell_type": "code",
   "execution_count": 58,
   "metadata": {},
   "outputs": [],
   "source": [
    "import pandas as pd\n",
    "df = pd.DataFrame({'Name':['A1..', 'B1..', 'C1..', 'D1..', 'E1..'],\n",
    "                   'Level':['1st','2nd','3rd','4th','5th'],\n",
    "                   'Time':[level1,level2,level3,level4,level5]\n",
    "                  }) "
   ]
  },
  {
   "cell_type": "code",
   "execution_count": 59,
   "metadata": {},
   "outputs": [
    {
     "name": "stdout",
     "output_type": "stream",
     "text": [
      "   Name Level      Time\n",
      "0  A1..   1st  0.000511\n",
      "1  B1..   2nd  0.001011\n",
      "2  C1..   3rd  0.001286\n",
      "3  D1..   4th  0.001830\n",
      "4  E1..   5th  0.002666\n"
     ]
    }
   ],
   "source": [
    "print(df)"
   ]
  },
  {
   "cell_type": "code",
   "execution_count": 62,
   "metadata": {},
   "outputs": [
    {
     "data": {
      "image/png": "[encoded data removed]",
      "text/plain": [
       "<Figure size 432x288 with 1 Axes>"
      ]
     },
     "metadata": {
      "needs_background": "light"
     },
     "output_type": "display_data"
    }
   ],
   "source": [
    "df.plot(x='Level', y=['Time'], kind='bar');"
   ]
  },
  {
   "cell_type": "markdown",
   "metadata": {},
   "source": [
    "Executive Summary\n",
    "\n",
    "The purpose of this exercise is to measure the time that Breath-first search (BFS) algorithm takes to find a name in different levels of a graph. A graph in this context is a set of connections made of nodes and edges.\n",
    "\n",
    "A BFS starts its search at the graph root (or some arbitrary node of a graph, sometimes referred to as a 'search key'), and explores all of the neighbor nodes at the present depth prior to moving on to the nodes at the next depth level.\n",
    "\n",
    "What is the Runing time in O notation?\n",
    "\n",
    "To search a name on the graph (or network), it is necessary to follow each edge (an edge is the connection of one name with another). Therefore, the running time is at least O (number of edges).\n",
    "\n",
    "The results of the exercise match this times, as every time we go to a higher level, it takes longer time for the algorithm to find the names."
   ]
  }
 ],
 "metadata": {
  "kernelspec": {
   "display_name": "Python 3",
   "language": "python",
   "name": "python3"
  },
  "language_info": {
   "codemirror_mode": {
    "name": "ipython",
    "version": 3
   },
   "file_extension": ".py",
   "mimetype": "text/x-python",
   "name": "python",
   "nbconvert_exporter": "python",
   "pygments_lexer": "ipython3",
   "version": "3.7.3"
  }
 },
 "nbformat": 4,
 "nbformat_minor": 4
}
