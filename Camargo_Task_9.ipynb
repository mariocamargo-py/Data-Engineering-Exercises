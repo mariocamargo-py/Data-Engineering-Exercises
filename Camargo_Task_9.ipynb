{
 "cells": [
  {
   "cell_type": "code",
   "execution_count": 23,
   "metadata": {},
   "outputs": [
    {
     "data": {
      "text/plain": [
       "'Created on Sun Nov 15 18:43:04 2020\\n@author: Mario Camargo'"
      ]
     },
     "execution_count": 23,
     "metadata": {},
     "output_type": "execute_result"
    }
   ],
   "source": [
    "\"\"\"Created on Sun Nov 15 18:43:04 2020\n",
    "@author: Mario Camargo\"\"\""
   ]
  },
  {
   "cell_type": "markdown",
   "metadata": {},
   "source": [
    "Implement the Dynamic Programming algorithm in Python for: \"Given a set of non-negative integers, and a value sum, determine if there is a subset of the given set with sum equal to given sum.\" and use it to solve a range of scenarios."
   ]
  },
  {
   "cell_type": "markdown",
   "metadata": {},
   "source": [
    "Example, for the set of numbers {3, 35, 4, 12, 5, 2}, \n",
    "\n",
    "When looking for a sum of 9, as 4+5 = 9, the output of this scenario should be equals True\n",
    "\n",
    "When looking for a sum of 30, as 4+5 = 9, the output of this scenario should be equals False\n"
   ]
  },
  {
   "cell_type": "code",
   "execution_count": 9,
   "metadata": {},
   "outputs": [],
   "source": [
    "# A Dynamic Programming solution breaks the problem into sub problems and solve those sub problems first. \n",
    "# sum problem Returns true if there is a subset of \n",
    "# set[] with sun equal to given sum \n",
    "# This code is contributed by sahil shelangia. \n",
    " \n",
    "# Returns true if there is a subset of set[] \n",
    "# with sun equal to given sum\n",
    "def isSubsetSum(set, n, sum):\n",
    "     \n",
    "    # The value of subset[i][j] will be true if there is a subset of set[0..j-1] with sum equal to i\n",
    "    subset =([[False for i in range(sum + 1)] \n",
    "            for i in range(n + 1)])\n",
    "     \n",
    "    # If sum is 0, then answer is true \n",
    "    for i in range(n + 1):\n",
    "        subset[i][0] = True\n",
    "         \n",
    "    # If sum is not 0 and set is empty, then answer is false \n",
    "    for i in range(1, sum + 1):\n",
    "         subset[0][i]= False\n",
    "             \n",
    "    # Fill the subset table in botton up manner\n",
    "    for i in range(1, n + 1):\n",
    "        for j in range(1, sum + 1):\n",
    "            if j<set[i-1]:\n",
    "                subset[i][j] = subset[i-1][j]\n",
    "            if j>= set[i-1]:\n",
    "                subset[i][j] = (subset[i-1][j] or\n",
    "                                subset[i - 1][j-set[i-1]])\n",
    "     \n",
    "    for i in range(n + 1):\n",
    "        for j in range(sum + 1):\n",
    "            print (subset[i][j], end =\" \")\n",
    "        print()\n",
    "    return subset[n][sum]"
   ]
  },
  {
   "cell_type": "markdown",
   "metadata": {},
   "source": [
    "How does it work?\n",
    "\n",
    "The algorithm first creates a matrix with number of columns equals to the (sum) number we are looking for + 1, and a row per each element of the set + 1. After this, it fils the matrix with \"False\" values.\n",
    "\n",
    "After that, it evaluates if each of the numbers is bigger than the target or (sum) number, if the target is smaller, it will be continue being a false, but if it is bigger, it will see if any of previous states have already experienced the number equlas the target or sum of smaller values equals to target."
   ]
  },
  {
   "cell_type": "markdown",
   "metadata": {},
   "source": [
    "Scenario Number one: Look if the sum 13 is possible with the element in the set [3, 34, 4, 12, 6, 2]"
   ]
  },
  {
   "cell_type": "code",
   "execution_count": 10,
   "metadata": {},
   "outputs": [
    {
     "name": "stdout",
     "output_type": "stream",
     "text": [
      "True False False False False False False False False False False False False False \n",
      "True False False True False False False False False False False False False False \n",
      "True False False True False False False False False False False False False False \n",
      "True False False True True False False True False False False False False False \n",
      "True False False True True False False True False False False False True False \n",
      "True False False True True False True True False True True False True True \n",
      "True False True True True True True True True True True True True True \n",
      "True, Found a subset with given sum\n"
     ]
    }
   ],
   "source": [
    "# Driver code\n",
    "if __name__=='__main__':\n",
    "    set = [3, 34, 4, 12, 6, 2]\n",
    "    sum = 13\n",
    "    n = len(set)\n",
    "    if (isSubsetSum(set, n, sum) == True):\n",
    "        print(\"True, Found a subset with given sum\")\n",
    "    else:\n",
    "        print(\"False, No subset with given sum\")"
   ]
  },
  {
   "cell_type": "markdown",
   "metadata": {},
   "source": [
    "As 3 + 4 + 6 = 13, then the output is True"
   ]
  },
  {
   "cell_type": "markdown",
   "metadata": {},
   "source": [
    "Scenario Number two: Look if the sum 6 is possible using the element(s) in the set [3, 4, 5, 7]"
   ]
  },
  {
   "cell_type": "code",
   "execution_count": 22,
   "metadata": {},
   "outputs": [
    {
     "name": "stdout",
     "output_type": "stream",
     "text": [
      "True False False False False False False \n",
      "True False False True False False False \n",
      "True False False True True False False \n",
      "True False False True True True False \n",
      "True False False True True True False \n",
      "False, No subset with given sum\n"
     ]
    }
   ],
   "source": [
    "# Driver code\n",
    "if __name__=='__main__':\n",
    "    set = [3, 4, 5, 7]\n",
    "    sum = 6\n",
    "    n = len(set)\n",
    "    if (isSubsetSum(set, n, sum) == True):\n",
    "        print(\"True, Found a subset with given sum\")\n",
    "    else:\n",
    "        print(\"False, No subset with given sum\")"
   ]
  },
  {
   "cell_type": "markdown",
   "metadata": {},
   "source": [
    "As there is not possible to find one or more elements that have a sum of 6, the output is False.  The matrix produces True results for some cells in the grid, because some numbers are less than 6 and they could potentially being used to produce a sum equals to 6."
   ]
  },
  {
   "cell_type": "markdown",
   "metadata": {},
   "source": [
    "Executive Summary\n",
    "\n",
    "When trying to find a solution to an optimization problem with given constrains, an alternative to trying every possible combination of different elements, is to use dynamic programming, that is usable if the problem can be broken into discrete subproblems. Then the algorithm solve those subproblems and compare them to find the optimal solution.\n",
    "\n",
    "Trying every possible combination of elements (for example, all numbers in the set used in this excersice) would increase the complexity of the solution as the problem takes O(2^n) time with this approach.\n",
    "\n",
    "Greedy algorithms would take less time to get to a solution, but they could give a good aproximation to the solution, but not the exact answer."
   ]
  }
 ],
 "metadata": {
  "kernelspec": {
   "display_name": "Python 3",
   "language": "python",
   "name": "python3"
  },
  "language_info": {
   "codemirror_mode": {
    "name": "ipython",
    "version": 3
   },
   "file_extension": ".py",
   "mimetype": "text/x-python",
   "name": "python",
   "nbconvert_exporter": "python",
   "pygments_lexer": "ipython3",
   "version": "3.7.3"
  }
 },
 "nbformat": 4,
 "nbformat_minor": 4
}
