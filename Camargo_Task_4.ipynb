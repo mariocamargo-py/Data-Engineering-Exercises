{
 "cells": [
  {
   "cell_type": "markdown",
   "metadata": {},
   "source": [
    "Set up five lists of randomly generated strings of characters, each string should be 50 characters long (with lists of 200, 400, 600, 800 & 1000 strings."
   ]
  },
  {
   "cell_type": "code",
   "execution_count": 79,
   "metadata": {},
   "outputs": [],
   "source": [
    "\"\"\"Created on Sun Oct 11 18:43:04 2020\n",
    "@author: Mario Camargo\"\"\"\n",
    "\n",
    "# generate some strings\n",
    "import random\n",
    "import string\n",
    "\n",
    "# generating lowercase strings\n",
    "letters = string.ascii_lowercase\n",
    "\n",
    "# string 1\n",
    "values1 = set()\n",
    "\n",
    "while len(values1) < 200:\n",
    "    values1.add(''.join(random.choice(letters) for i in range(50)))\n",
    "\n",
    "list1 = list(values1)\n",
    "\n",
    "# string 2\n",
    "values2 = set()\n",
    "\n",
    "while len(values2) < 400:\n",
    "    values2.add(''.join(random.choice(letters) for i in range(50)))\n",
    "    \n",
    "list2 = list(values2)\n",
    "\n",
    "# string 3\n",
    "values3 = set()\n",
    "\n",
    "while len(values3) < 600:\n",
    "    values3.add(''.join(random.choice(letters) for i in range(50)))\n",
    "    \n",
    "list3 = list(values3)\n",
    "\n",
    "# string 4\n",
    "values4 = set()\n",
    "\n",
    "while len(values4) < 800:\n",
    "    values4.add(''.join(random.choice(letters) for i in range(50)))\n",
    "    \n",
    "list4 = list(values4)\n",
    "        \n",
    "# string 5\n",
    "values5 = set()\n",
    "\n",
    "while len(values5) < 1000:\n",
    "    values5.add(''.join(random.choice(letters) for i in range(50)))\n",
    "    \n",
    "list5 = list(values5)"
   ]
  },
  {
   "cell_type": "markdown",
   "metadata": {},
   "source": [
    "Implement quicksort to sort the data, being sure to capture the amount of time it takes for each list. "
   ]
  },
  {
   "cell_type": "code",
   "execution_count": 80,
   "metadata": {},
   "outputs": [],
   "source": [
    "def quicksort(array):\n",
    "  if len(array) < 2:\n",
    "    # base case, arrays with 0 or 1 element are already \"sorted\"\n",
    "    return array\n",
    "  else:\n",
    "    # recursive case\n",
    "    pivot = array[0]\n",
    "    # sub-array of all the elements less than the pivot\n",
    "    less = [i for i in array[1:] if i <= pivot]\n",
    "    # sub-array of all the elements greater than the pivot\n",
    "    greater = [i for i in array[1:] if i > pivot]\n",
    "    return quicksort(less) + [pivot] + quicksort(greater)"
   ]
  },
  {
   "cell_type": "code",
   "execution_count": 81,
   "metadata": {},
   "outputs": [],
   "source": [
    "import time\n",
    "# store execution time for sorting the first array\n",
    "start_time = time.time()\n",
    "quicksort(list1)\n",
    "quick1 = time.time() - start_time"
   ]
  },
  {
   "cell_type": "code",
   "execution_count": 82,
   "metadata": {},
   "outputs": [],
   "source": [
    "# store execution time for sorting the 2nd array\n",
    "start_time = time.time()\n",
    "quicksort(list2)\n",
    "quick2 = time.time() - start_time"
   ]
  },
  {
   "cell_type": "code",
   "execution_count": 83,
   "metadata": {},
   "outputs": [],
   "source": [
    "# store execution time for sorting the 3rd array\n",
    "start_time = time.time()\n",
    "quicksort(list3)\n",
    "quick3 = time.time() - start_time"
   ]
  },
  {
   "cell_type": "code",
   "execution_count": 84,
   "metadata": {},
   "outputs": [],
   "source": [
    "# store execution time for sorting the 4th array\n",
    "start_time = time.time()\n",
    "quicksort(list4)\n",
    "quick4 = time.time() - start_time"
   ]
  },
  {
   "cell_type": "code",
   "execution_count": 85,
   "metadata": {},
   "outputs": [],
   "source": [
    "# store execution time for sorting the 5th array\n",
    "start_time = time.time()\n",
    "quicksort(list5)\n",
    "quick5 = time.time() - start_time"
   ]
  },
  {
   "cell_type": "markdown",
   "metadata": {},
   "source": [
    "Now use at least two other sorting algorithms on the same data set."
   ]
  },
  {
   "cell_type": "code",
   "execution_count": 72,
   "metadata": {},
   "outputs": [],
   "source": [
    "def bubbleSort(arr): \n",
    "    n = len(arr) \n",
    "  \n",
    "    # Traverse through all array elements \n",
    "    for i in range(n): \n",
    "  \n",
    "        # Last i elements are already in place \n",
    "        for j in range(0, n-i-1): \n",
    "  \n",
    "            # traverse the array from 0 to n-i-1 \n",
    "            # Swap if the element found is greater \n",
    "            # than the next element \n",
    "            if arr[j] > arr[j+1] : \n",
    "                arr[j], arr[j+1] = arr[j+1], arr[j] "
   ]
  },
  {
   "cell_type": "code",
   "execution_count": 86,
   "metadata": {},
   "outputs": [],
   "source": [
    "list1c = list1[:]\n",
    "# store execution time for sorting the first array\n",
    "start_time = time.time()\n",
    "bubbleSort(list1c)\n",
    "bubble1 = time.time() - start_time"
   ]
  },
  {
   "cell_type": "code",
   "execution_count": 88,
   "metadata": {},
   "outputs": [],
   "source": [
    "list2c = list2[:]\n",
    "# store execution time for sorting the 2nd array\n",
    "start_time = time.time()\n",
    "bubbleSort(list2c)\n",
    "bubble2 = time.time() - start_time"
   ]
  },
  {
   "cell_type": "code",
   "execution_count": 89,
   "metadata": {},
   "outputs": [],
   "source": [
    "list3c = list3[:]\n",
    "# store execution time for sorting the 3rd array\n",
    "start_time = time.time()\n",
    "bubbleSort(list3c)\n",
    "bubble3 = time.time() - start_time"
   ]
  },
  {
   "cell_type": "code",
   "execution_count": 90,
   "metadata": {},
   "outputs": [],
   "source": [
    "list4c = list4[:]\n",
    "# store execution time for sorting the 4th array\n",
    "start_time = time.time()\n",
    "bubbleSort(list4c)\n",
    "bubble4 = time.time() - start_time"
   ]
  },
  {
   "cell_type": "code",
   "execution_count": 91,
   "metadata": {},
   "outputs": [],
   "source": [
    "list5c = list5[:]\n",
    "# store execution time for sorting the 5th array\n",
    "start_time = time.time()\n",
    "bubbleSort(list5c)\n",
    "bubble5 = time.time() - start_time"
   ]
  },
  {
   "cell_type": "markdown",
   "metadata": {},
   "source": [
    "Now using merge sort."
   ]
  },
  {
   "cell_type": "code",
   "execution_count": 92,
   "metadata": {},
   "outputs": [],
   "source": [
    "def merge_sort(values): \n",
    "  \n",
    "    if len(values)>1: \n",
    "        m = len(values)//2\n",
    "        left = values[:m] \n",
    "        right = values[m:] \n",
    "        left = merge_sort(left) \n",
    "        right = merge_sort(right) \n",
    "  \n",
    "        values =[] \n",
    "  \n",
    "        while len(left)>0 and len(right)>0: \n",
    "            if left[0]<right[0]: \n",
    "                values.append(left[0]) \n",
    "                left.pop(0) \n",
    "            else: \n",
    "                values.append(right[0]) \n",
    "                right.pop(0) \n",
    "  \n",
    "        for i in left: \n",
    "            values.append(i) \n",
    "        for i in right: \n",
    "            values.append(i) \n",
    "                  \n",
    "    return values "
   ]
  },
  {
   "cell_type": "code",
   "execution_count": 93,
   "metadata": {},
   "outputs": [],
   "source": [
    "# store execution time for sorting the first array\n",
    "start_time = time.time()\n",
    "merge_sort(list1)\n",
    "merge1 = time.time() - start_time"
   ]
  },
  {
   "cell_type": "code",
   "execution_count": 94,
   "metadata": {},
   "outputs": [],
   "source": [
    "# store execution time for sorting the 2nd array\n",
    "start_time = time.time()\n",
    "merge_sort(list2)\n",
    "merge2 = time.time() - start_time"
   ]
  },
  {
   "cell_type": "code",
   "execution_count": 95,
   "metadata": {},
   "outputs": [],
   "source": [
    "# store execution time for sorting the 3rd array\n",
    "start_time = time.time()\n",
    "merge_sort(list3)\n",
    "merge3 = time.time() - start_time"
   ]
  },
  {
   "cell_type": "code",
   "execution_count": 96,
   "metadata": {},
   "outputs": [],
   "source": [
    "# store execution time for sorting the 4th array\n",
    "start_time = time.time()\n",
    "merge_sort(list4)\n",
    "merge4 = time.time() - start_time"
   ]
  },
  {
   "cell_type": "code",
   "execution_count": 97,
   "metadata": {},
   "outputs": [],
   "source": [
    "# store execution time for sorting the 5th array\n",
    "start_time = time.time()\n",
    "merge_sort(list5)\n",
    "merge5 = time.time() - start_time"
   ]
  },
  {
   "cell_type": "markdown",
   "metadata": {},
   "source": [
    "Create a table containing each algorithm and the timings for each list."
   ]
  },
  {
   "cell_type": "code",
   "execution_count": 98,
   "metadata": {},
   "outputs": [],
   "source": [
    "import pandas as pd\n",
    "df = pd.DataFrame({'Size':[len(values1),len(values2),len(values3),len(values4),len(values5)],\n",
    "                   'Quick Time':[quick1,quick2,quick3,quick4,quick5],\n",
    "                   'Bubble Time':[bubble1,bubble2,bubble3,bubble4,bubble5],\n",
    "                   'Merge Time':[merge1,merge2,merge3,merge4,merge5]\n",
    "                  }) "
   ]
  },
  {
   "cell_type": "code",
   "execution_count": 99,
   "metadata": {},
   "outputs": [
    {
     "name": "stdout",
     "output_type": "stream",
     "text": [
      "   Size  Quick Time  Bubble Time  Merge Time\n",
      "0   200    0.000637     0.003461    0.000843\n",
      "1   400    0.001207     0.018342    0.003252\n",
      "2   600    0.001935     0.038320    0.003323\n",
      "3   800    0.002073     0.060348    0.004511\n",
      "4  1000    0.004260     0.109528    0.006408\n"
     ]
    }
   ],
   "source": [
    "print(df)"
   ]
  },
  {
   "cell_type": "markdown",
   "metadata": {},
   "source": [
    "Generate a measure of the size of the data set on the horizontal axis and with execution time in milliseconds on the vertical axis."
   ]
  },
  {
   "cell_type": "code",
   "execution_count": 100,
   "metadata": {},
   "outputs": [
    {
     "data": {
      "image/png": "[encoded data removed]",
      "text/plain": [
       "<Figure size 432x288 with 1 Axes>"
      ]
     },
     "metadata": {
      "needs_background": "light"
     },
     "output_type": "display_data"
    }
   ],
   "source": [
    "df.plot(x='Size', y=['Quick Time','Bubble Time','Merge Time'], kind='line');"
   ]
  },
  {
   "cell_type": "markdown",
   "metadata": {},
   "source": [
    "Executive Summary\n",
    "\n",
    "Divide & Conquer (D&C) is an algorithm strategy that belongs to the family of recursive algorithms (a function that calls itself). D&C breaks the problem in smaller pieces to achive the final goal.\n",
    "\n",
    "The purpose of this exercise is to measure the effectiveness of Quicksort (an algorithm that uses D&C) compared against other sorting algorithms (Bubble & Merge), and visualize its running time (based on the number of operations performed to sort a list of strings) when the size of the list increases.\n",
    "\n",
    "The results of the exercise shows that Quicksort algorithm is very effective compared to Bubble and slighly more effective compared to Merge algorithn.\n",
    "\n",
    "What is the O notation time for Quicksort?\n",
    "\n",
    "Big O notation (a Big O with a running time expression next to it) is the way to represent the running time of an algorithm. Quicksort takes O(n^2) time in the worst case and O(n log n) in the average case. \n",
    "\n",
    "For this particular excercise, it looks that average would be the approach that Quicksort is using as it is faster than Merge algorithm"
   ]
  }
 ],
 "metadata": {
  "kernelspec": {
   "display_name": "Python 3",
   "language": "python",
   "name": "python3"
  },
  "language_info": {
   "codemirror_mode": {
    "name": "ipython",
    "version": 3
   },
   "file_extension": ".py",
   "mimetype": "text/x-python",
   "name": "python",
   "nbconvert_exporter": "python",
   "pygments_lexer": "ipython3",
   "version": "3.7.3"
  }
 },
 "nbformat": 4,
 "nbformat_minor": 4
}
