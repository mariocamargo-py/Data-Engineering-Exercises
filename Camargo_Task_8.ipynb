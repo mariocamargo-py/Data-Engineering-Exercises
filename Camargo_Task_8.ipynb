{
 "cells": [
  {
   "cell_type": "code",
   "execution_count": 1,
   "metadata": {},
   "outputs": [
    {
     "data": {
      "text/plain": [
       "'Created on Sun Nov 8 18:43:04 2020\\n@author: Mario Camargo'"
      ]
     },
     "execution_count": 1,
     "metadata": {},
     "output_type": "execute_result"
    }
   ],
   "source": [
    "\"\"\"Created on Sun Nov 8 18:43:04 2020\n",
    "@author: Mario Camargo\"\"\""
   ]
  },
  {
   "cell_type": "markdown",
   "metadata": {},
   "source": [
    "Assume you run a small security company that provides physical security services in the area and you recently won a new contract in the area to provide 24x7 security to a small building under construction.  For simplicity we will design the solution for only 24 hours.\n",
    "\n",
    "You have 6 security guards available at the moment who you can assign to this building but your goal is to make more money out of this contract and spend less in wages (hence greedy!).\n",
    "\n",
    "The cost/wage structure is as follows:\n",
    "\n",
    "People working less than or equal to 8 hours will be paid $15/hr\n",
    "Anyone working overtime (>8 hours) will be paid an additional $5, i.e. $20/hr\n",
    "\n",
    "Create a greedy algorithm (come up with any algorithm of your own) that finds you the most cost effective solution e.g. Should we appoint 2 security guards for 12 hours each? Or 3 of them for 8 hours each? Or 4 for 6 hours each? Or all 6 for 4 hours each? Or any other combination?\n",
    "\n",
    "Write the greedy algorithm, run it, and record the solution that your algorithm produces."
   ]
  },
  {
   "cell_type": "code",
   "execution_count": 16,
   "metadata": {},
   "outputs": [
    {
     "name": "stdout",
     "output_type": "stream",
     "text": [
      "[8, 8, 8]\n"
     ]
    }
   ],
   "source": [
    "# Greedy algorithm\n",
    "\n",
    "workers = [0,0,0,0,0,0]\n",
    "hours_per_worker = []\n",
    "target = 24\n",
    "\n",
    "for i in workers:\n",
    "    if sum(hours_per_worker) < target:\n",
    "        i = i+8\n",
    "        hours_per_worker.append(i)\n",
    "    else:\n",
    "        break\n",
    "        \n",
    "print(hours_per_worker)"
   ]
  },
  {
   "cell_type": "markdown",
   "metadata": {},
   "source": [
    "Explain your algorithm in detail.  How is it greedy?\n",
    "What is the complexity of your solution?"
   ]
  },
  {
   "cell_type": "markdown",
   "metadata": {},
   "source": [
    "This algorithm is simple and obvious. A greedy algorithm is simple at each step, picking the locally optimal solution. In this case, the maximum amount of hours per worker that can be charged at 15 dollars are 8, therefore, assigning 8 hours to each worker until completing 24 hours in total. "
   ]
  },
  {
   "cell_type": "markdown",
   "metadata": {},
   "source": [
    "Did the greedy algorithm provide the best solution or could there be an alternative/better solution to your problem? Why or why not? If the scenario had different values for the inputs would your algorithm still be successful? Eg. more than 24 hours, higher overtime, shorter shifts, or values that don't factor so nicely. Why or why not? What things would change the optimal output? "
   ]
  },
  {
   "cell_type": "markdown",
   "metadata": {},
   "source": [
    "The algorithm produces one of many possible optimal solutions, 360 in total. If some parameters would change, for example, the total amount of hours would increase from 24 to more than 48, this solution would not be optimal for that scenario but could give a good solution. Sometimes, a good solution is all the problem needs, and that is another characteristic of greedy algorithms, they are easy to write and usually they get pretty close to the answer. "
   ]
  },
  {
   "cell_type": "markdown",
   "metadata": {},
   "source": [
    "If you were not constrained to a greedy algorithm, what approaches would you take to solve the problem?"
   ]
  },
  {
   "cell_type": "markdown",
   "metadata": {},
   "source": [
    "if the problem becomes more complex, I could create an algorithm that first uses all the time that can be paid at lowest rate and after that takes the lowest amount of hours at the expensive rate."
   ]
  },
  {
   "cell_type": "markdown",
   "metadata": {},
   "source": [
    "Executive Summary\n",
    "\n",
    "Sometimes, perfect is the enemy of good, that is the main idea behind greedy algorithms. They may not give you the optimal answer but can be a good solution, this kind of algorithms are very useful when you do not have a lot of time to write complex code. "
   ]
  }
 ],
 "metadata": {
  "kernelspec": {
   "display_name": "Python 3",
   "language": "python",
   "name": "python3"
  },
  "language_info": {
   "codemirror_mode": {
    "name": "ipython",
    "version": 3
   },
   "file_extension": ".py",
   "mimetype": "text/x-python",
   "name": "python",
   "nbconvert_exporter": "python",
   "pygments_lexer": "ipython3",
   "version": "3.7.3"
  }
 },
 "nbformat": 4,
 "nbformat_minor": 4
}
