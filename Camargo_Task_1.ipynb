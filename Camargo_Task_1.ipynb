{
 "cells": [
  {
   "cell_type": "markdown",
   "metadata": {},
   "source": [
    "Ensure that a common random number seed is used to generate each of the arrays. We will make five arrays, each of length 512, 1024, 2048, 4096, and 8192 containing randomly generated uniformly distributed integers from 1 to 10000."
   ]
  },
  {
   "cell_type": "code",
   "execution_count": 15,
   "metadata": {},
   "outputs": [],
   "source": [
    "\"\"\"Created on Sun Sep 20 18:43:04 2020\n",
    "@author: Mario Camargo\"\"\"\n",
    "\n",
    "# generate random integer values\n",
    "from numpy.random import seed\n",
    "from numpy.random import randint\n",
    "# seed random number generator\n",
    "seed(1)\n",
    "# generate some integers\n",
    "values1 = randint(1, 10000, 512)\n",
    "values2 = randint(1, 10000, 1024)\n",
    "values3 = randint(1, 10000, 2048)\n",
    "values4 = randint(1, 10000, 4096)\n",
    "values5 = randint(1, 10000, 8192)"
   ]
  },
  {
   "cell_type": "markdown",
   "metadata": {},
   "source": [
    "Sort each of the random number arrays from smallest to largest.  You may use any algorithm to sort the data."
   ]
  },
  {
   "cell_type": "code",
   "execution_count": 35,
   "metadata": {},
   "outputs": [],
   "source": [
    "import numpy as np\n",
    "# create sorting function\n",
    "def selection_sort(x):\n",
    "    for i in range(len(x)):\n",
    "        swap = i + np.argmin(x[i:])\n",
    "        (x[i], x[swap]) = (x[swap], x[i])\n",
    "    return x"
   ]
  },
  {
   "cell_type": "code",
   "execution_count": 38,
   "metadata": {},
   "outputs": [],
   "source": [
    "import time\n",
    "# store execution time for sorting the first array\n",
    "start_time = time.time()\n",
    "selection_sort(values1)\n",
    "sort1 = time.time() - start_time"
   ]
  },
  {
   "cell_type": "code",
   "execution_count": 42,
   "metadata": {},
   "outputs": [],
   "source": [
    "# store execution time for sorting the 2nd array\n",
    "start_time = time.time()\n",
    "selection_sort(values2)\n",
    "sort2 = time.time() - start_time"
   ]
  },
  {
   "cell_type": "code",
   "execution_count": 43,
   "metadata": {},
   "outputs": [],
   "source": [
    "# store execution time for sorting the 3rd array\n",
    "start_time = time.time()\n",
    "selection_sort(values3)\n",
    "sort3 = time.time() - start_time"
   ]
  },
  {
   "cell_type": "code",
   "execution_count": 44,
   "metadata": {},
   "outputs": [],
   "source": [
    "# store execution time for sorting the 4th array\n",
    "start_time = time.time()\n",
    "selection_sort(values4)\n",
    "sort4 = time.time() - start_time"
   ]
  },
  {
   "cell_type": "code",
   "execution_count": 45,
   "metadata": {},
   "outputs": [],
   "source": [
    "# store execution time for sorting the 5th array\n",
    "start_time = time.time()\n",
    "selection_sort(values5)\n",
    "sort5 = time.time() - start_time"
   ]
  },
  {
   "cell_type": "markdown",
   "metadata": {},
   "source": [
    "Execute the base search algorithm (binary search) (from the text and github code) for each of array, noting the execution time for each array. "
   ]
  },
  {
   "cell_type": "code",
   "execution_count": 28,
   "metadata": {},
   "outputs": [],
   "source": [
    "class BinarySearch():\n",
    "\n",
    "  def search_iterative(self, list, item):\n",
    "    # low and high keep track of which part of the list you'll search in.\n",
    "    low = 0\n",
    "    high = len(list) - 1\n",
    "\n",
    "    # While you haven't narrowed it down to one element ...\n",
    "    while low <= high:\n",
    "      # ... check the middle element\n",
    "      mid = (low + high) // 2\n",
    "      guess = list[mid]\n",
    "      # Found the item.\n",
    "      if guess == item:\n",
    "        return mid\n",
    "      # The guess was too high.\n",
    "      if guess > item:\n",
    "        high = mid - 1\n",
    "      # The guess was too low.\n",
    "      else:\n",
    "        low = mid + 1\n",
    "\n",
    "    # Item doesn't exist\n",
    "    return None\n",
    "\n",
    "  def search_recursive(self, list, low, high, item):\n",
    "    # Check base case \n",
    "    if high >= low: \n",
    "  \n",
    "        mid = (high + low) // 2\n",
    "        guess = list[mid]\n",
    "  \n",
    "        # If element is present at the middle itself \n",
    "        if guess == item:\n",
    "            return mid \n",
    "  \n",
    "        # If element is smaller than mid, then it can only \n",
    "        # be present in left subarray \n",
    "        elif guess > item: \n",
    "            return self.search_recursive(list, low, mid - 1, item) \n",
    "  \n",
    "        # Else the element can only be present in right subarray \n",
    "        else: \n",
    "            return self.search_recursive(list, mid + 1, high, item) \n",
    "  \n",
    "    else: \n",
    "        # Element is not present in the array \n",
    "        return None\n",
    "\n",
    "if __name__ == \"__main__\":\n",
    "  # We must initialize the class to use the methods of this class\n",
    "  bs = BinarySearch()"
   ]
  },
  {
   "cell_type": "code",
   "execution_count": 34,
   "metadata": {},
   "outputs": [],
   "source": [
    "# store execution time for the 1st array\n",
    "start_time = time.time()\n",
    "bs.search_iterative(values1, 9999)\n",
    "bn1 = time.time() - start_time"
   ]
  },
  {
   "cell_type": "code",
   "execution_count": 46,
   "metadata": {},
   "outputs": [],
   "source": [
    "# store execution time for the 2nd array\n",
    "start_time = time.time()\n",
    "bs.search_iterative(values2, 9993)\n",
    "bn2 = time.time() - start_time"
   ]
  },
  {
   "cell_type": "code",
   "execution_count": 47,
   "metadata": {},
   "outputs": [],
   "source": [
    "# store execution time for the 3rd array\n",
    "start_time = time.time()\n",
    "bs.search_iterative(values3, 9997)\n",
    "bn3 = time.time() - start_time"
   ]
  },
  {
   "cell_type": "code",
   "execution_count": 48,
   "metadata": {},
   "outputs": [],
   "source": [
    "# store execution time for the 4th array\n",
    "start_time = time.time()\n",
    "bs.search_iterative(values4, 9998)\n",
    "bn4 = time.time() - start_time"
   ]
  },
  {
   "cell_type": "code",
   "execution_count": 49,
   "metadata": {},
   "outputs": [],
   "source": [
    "# store execution time for the 5th array\n",
    "start_time = time.time()\n",
    "bs.search_iterative(values5, 9997)\n",
    "bn5 = time.time() - start_time"
   ]
  },
  {
   "cell_type": "markdown",
   "metadata": {},
   "source": [
    "Linear Search"
   ]
  },
  {
   "cell_type": "code",
   "execution_count": 62,
   "metadata": {},
   "outputs": [],
   "source": [
    "def search(arr, x): \n",
    "  \n",
    "    for i in range(len(arr)): \n",
    "  \n",
    "        if arr[i] == x: \n",
    "            return i \n",
    "  \n",
    "    return -1"
   ]
  },
  {
   "cell_type": "code",
   "execution_count": 65,
   "metadata": {},
   "outputs": [],
   "source": [
    "# store linear execution time for the 1st array\n",
    "start_time = time.time()\n",
    "search(values1,9999)\n",
    "ln1 = time.time() - start_time"
   ]
  },
  {
   "cell_type": "code",
   "execution_count": 66,
   "metadata": {},
   "outputs": [],
   "source": [
    "# store linear execution time for the 2nd array\n",
    "start_time = time.time()\n",
    "search(values2,9993)\n",
    "ln2 = time.time() - start_time"
   ]
  },
  {
   "cell_type": "code",
   "execution_count": 67,
   "metadata": {},
   "outputs": [],
   "source": [
    "# store linear execution time for the 3rd array\n",
    "start_time = time.time()\n",
    "search(values3,9997)\n",
    "ln3 = time.time() - start_time"
   ]
  },
  {
   "cell_type": "code",
   "execution_count": 68,
   "metadata": {},
   "outputs": [],
   "source": [
    "# store linear execution time for the 4th array\n",
    "start_time = time.time()\n",
    "search(values4,9998)\n",
    "ln4 = time.time() - start_time"
   ]
  },
  {
   "cell_type": "code",
   "execution_count": 69,
   "metadata": {},
   "outputs": [],
   "source": [
    "# store linear execution time for the 5th array\n",
    "start_time = time.time()\n",
    "search(values5,9997)\n",
    "ln5 = time.time() - start_time"
   ]
  },
  {
   "cell_type": "markdown",
   "metadata": {},
   "source": [
    "Now we will compare this to a linear search.  Use python (perhaps with the Pandas package) to prepare a five-column table containing the following columns with all times in milliseconds:"
   ]
  },
  {
   "cell_type": "code",
   "execution_count": 71,
   "metadata": {},
   "outputs": [],
   "source": [
    "import pandas as pd\n",
    "df = pd.DataFrame({'Size':[len(values1),len(values2),len(values3),len(values4),len(values5)],\n",
    "                   'Sort Time':[sort1,sort2,sort3,sort4,sort5],\n",
    "                   'Linear Time':[ln1,ln2,ln3,ln4,ln5],\n",
    "                   'Binary Time':[bn1,bn2,bn3,bn4,bn5],\n",
    "                   'Binary & Sort Time':[sort1+bn1,sort2+bn2,sort3+bn3,sort4+bn4,sort5+bn5]}) "
   ]
  },
  {
   "cell_type": "code",
   "execution_count": 72,
   "metadata": {},
   "outputs": [
    {
     "name": "stdout",
     "output_type": "stream",
     "text": [
      "   Size  Sort Time  Linear Time  Binary Time  Binary & Sort Time\n",
      "0   512   0.002737     0.000242     0.000073            0.002810\n",
      "1  1024   0.004749     0.000837     0.000082            0.004831\n",
      "2  2048   0.011625     0.000888     0.000078            0.011703\n",
      "3  4096   0.022022     0.002011     0.000062            0.022084\n",
      "4  8192   0.044534     0.003232     0.000132            0.044666\n"
     ]
    }
   ],
   "source": [
    "print(df)"
   ]
  },
  {
   "cell_type": "markdown",
   "metadata": {},
   "source": [
    "Use python matplotlib or Seaborn to generate a plot with the size of the random number array on the horizontal axis and with execution time in milliseconds on the vertical axis"
   ]
  },
  {
   "cell_type": "code",
   "execution_count": 79,
   "metadata": {},
   "outputs": [
    {
     "data": {
      "image/png": "[encoded data removed]",
      "text/plain": [
       "<Figure size 432x288 with 1 Axes>"
      ]
     },
     "metadata": {
      "needs_background": "light"
     },
     "output_type": "display_data"
    }
   ],
   "source": [
    "df.plot(x='Size', y=['Linear Time','Binary Time'], kind='line');"
   ]
  },
  {
   "cell_type": "code",
   "execution_count": 80,
   "metadata": {},
   "outputs": [
    {
     "data": {
      "image/png": "[encoded data removed]",
      "text/plain": [
       "<Figure size 432x288 with 1 Axes>"
      ]
     },
     "metadata": {
      "needs_background": "light"
     },
     "output_type": "display_data"
    }
   ],
   "source": [
    "df.plot(x='Size', y=['Sort Time','Linear Time','Binary Time','Binary & Sort Time'], kind='line');"
   ]
  },
  {
   "cell_type": "markdown",
   "metadata": {},
   "source": [
    "Executive Summary\n",
    "\n",
    "The purpose of this exercise is to measure the performance of different algorithms for sorting and locating values inside a list of numbers.\n",
    "\n",
    "A simple algorithm (series of logical steps that a computer program follows to solve a problem or achieve a goal) was used to sort the numbers in the list of values, on the other hand, two different algorithms were used to find the biggest value inside each different list. One algorithm was a linear search that goes value by value comparing each of them to the number it is looking for. The other algorithm is Binary search that works by repeatedly dividing in half the portion of the list that could contain the searched value, until it narrows down the possible locations to just one.  \n",
    "\n",
    "The results of the exercise showed that Linear search is less efficient than Binary search, and additionally, the Linear search becomes less efficient (compared to Binary search) when the size of the list of elements increases.\n",
    "\n",
    "Why is Binary Search more efficient?\n",
    "\n",
    "Linear search needs to go element by element and therefore it needs more time than Binary search, as Binary can discard half of the possible elements in every new search. That also explains why Binary search becomes even more efficient when the size of the list increases.\n"
   ]
  }
 ],
 "metadata": {
  "kernelspec": {
   "display_name": "Python 3",
   "language": "python",
   "name": "python3"
  },
  "language_info": {
   "codemirror_mode": {
    "name": "ipython",
    "version": 3
   },
   "file_extension": ".py",
   "mimetype": "text/x-python",
   "name": "python",
   "nbconvert_exporter": "python",
   "pygments_lexer": "ipython3",
   "version": "3.7.3"
  }
 },
 "nbformat": 4,
 "nbformat_minor": 4
}
