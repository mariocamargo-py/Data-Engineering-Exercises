{
 "cells": [
  {
   "cell_type": "markdown",
   "metadata": {},
   "source": [
    "Ensure that a common random number seed is used to generate each of the arrays. We will make five arrays, each of length 5,000, 10,000, 15,000, 20,000, and 25,000 containing randomly generated uniformly distributed integers from 1 to 10000."
   ]
  },
  {
   "cell_type": "code",
   "execution_count": 53,
   "metadata": {},
   "outputs": [],
   "source": [
    "\"\"\"Created on Sun Sep 27 18:43:04 2020\n",
    "@author: Mario Camargo\"\"\"\n",
    "\n",
    "# generate random integer values\n",
    "from numpy.random import seed\n",
    "from numpy.random import randint\n",
    "# seed random number generator\n",
    "seed(1)\n",
    "# generate some integers\n",
    "values1 = randint(1, 10000, 5000).tolist()\n",
    "values2 = randint(1, 10000, 10000).tolist()\n",
    "values3 = randint(1, 10000, 15000).tolist()\n",
    "values4 = randint(1, 10000, 20000).tolist()\n",
    "values5 = randint(1, 10000, 25000).tolist()"
   ]
  },
  {
   "cell_type": "markdown",
   "metadata": {},
   "source": [
    "Execute the base algorithm (Selection Sort) for each of the random number arrays, noting the execution time with each execution."
   ]
  },
  {
   "cell_type": "code",
   "execution_count": 42,
   "metadata": {},
   "outputs": [],
   "source": [
    "# Finds the smallest value in an array\n",
    "def findSmallest(arr):\n",
    "  # Stores the smallest value\n",
    "  smallest = arr[0]\n",
    "  # Stores the index of the smallest value\n",
    "  smallest_index = 0\n",
    "  for i in range(1, len(arr)):\n",
    "    if arr[i] < smallest:\n",
    "      smallest_index = i\n",
    "      smallest = arr[i]      \n",
    "  return smallest_index\n",
    "\n",
    "# Sort array\n",
    "def selectionSort(arr):\n",
    "  newArr = []\n",
    "  for i in range(len(arr)):\n",
    "      # Finds the smallest element in the array and adds it to the new array\n",
    "      smallest = findSmallest(arr)\n",
    "      newArr.append(arr.pop(smallest))\n",
    "  return newArr\n",
    "\n",
    "#print(selectionSort(values1))"
   ]
  },
  {
   "cell_type": "code",
   "execution_count": 44,
   "metadata": {},
   "outputs": [],
   "source": [
    "import time\n",
    "# store execution time for sorting the first array\n",
    "start_time = time.time()\n",
    "selectionSort(values1)\n",
    "sort1 = time.time() - start_time"
   ]
  },
  {
   "cell_type": "code",
   "execution_count": 45,
   "metadata": {},
   "outputs": [],
   "source": [
    "# store execution time for sorting the 2nd array\n",
    "start_time = time.time()\n",
    "selectionSort(values2)\n",
    "sort2 = time.time() - start_time"
   ]
  },
  {
   "cell_type": "code",
   "execution_count": 46,
   "metadata": {},
   "outputs": [],
   "source": [
    "# store execution time for sorting the 3rd array\n",
    "start_time = time.time()\n",
    "selectionSort(values3)\n",
    "sort3 = time.time() - start_time"
   ]
  },
  {
   "cell_type": "code",
   "execution_count": 47,
   "metadata": {},
   "outputs": [],
   "source": [
    "# store execution time for sorting the 4th array\n",
    "start_time = time.time()\n",
    "selectionSort(values4)\n",
    "sort4 = time.time() - start_time"
   ]
  },
  {
   "cell_type": "code",
   "execution_count": 48,
   "metadata": {},
   "outputs": [],
   "source": [
    "# store execution time for sorting the 5th array\n",
    "start_time = time.time()\n",
    "selectionSort(values5)\n",
    "sort5 = time.time() - start_time"
   ]
  },
  {
   "cell_type": "markdown",
   "metadata": {},
   "source": [
    "Organize the results of the study into a table showing the size of data array and the time taken to sort the array. Discuss the differences in timing and how they relate to data type and length of array.  "
   ]
  },
  {
   "cell_type": "code",
   "execution_count": 55,
   "metadata": {},
   "outputs": [],
   "source": [
    "import pandas as pd\n",
    "df = pd.DataFrame({'Size':[len(values1),len(values2),len(values3),len(values4),len(values5)],\n",
    "                   'Sort Time':[sort1,sort2,sort3,sort4,sort5]}) "
   ]
  },
  {
   "cell_type": "code",
   "execution_count": 56,
   "metadata": {},
   "outputs": [
    {
     "name": "stdout",
     "output_type": "stream",
     "text": [
      "    Size  Sort Time\n",
      "0   5000   0.724758\n",
      "1  10000   3.062278\n",
      "2  15000   5.976613\n",
      "3  20000  10.937642\n",
      "4  25000  15.630331\n"
     ]
    }
   ],
   "source": [
    "print(df)"
   ]
  },
  {
   "cell_type": "markdown",
   "metadata": {},
   "source": [
    "Generate a measure of the size of the data set on the horizontal axis and with execution time in milliseconds on the vertical axis."
   ]
  },
  {
   "cell_type": "code",
   "execution_count": 59,
   "metadata": {},
   "outputs": [
    {
     "data": {
      "image/png": "[encoded data removed]",
      "text/plain": [
       "<Figure size 432x288 with 1 Axes>"
      ]
     },
     "metadata": {
      "needs_background": "light"
     },
     "output_type": "display_data"
    }
   ],
   "source": [
    "df.plot(x='Size', y='Sort Time', kind='line');"
   ]
  },
  {
   "cell_type": "markdown",
   "metadata": {},
   "source": [
    "Executive Summary\n",
    "\n",
    "Selection Sort is a sorting algorithm that has an O(n^2) time complexity, which makes it inefficient on large lists, and generally performs worse than the similar insertion sort.\n",
    "\n",
    "The purpose of this exercise is to measure the Selection Sort algorithm and visualize its running time (based on the number of operations performed to sort the list) when the size of the list increases.\n",
    "\n",
    "The results of the exercise shows that the Selection Sort algorithm presents a quadratic line.\n",
    "\n",
    "What O(n^2) means?\n",
    "\n",
    "Big O notation (a Big O with a running time expression next to it) is the way to represent the running time of an algorithm. n^2 is one of the most comun O notations, it is also known for being slow when increasing the size of the list as we could visualize in the graph."
   ]
  }
 ],
 "metadata": {
  "kernelspec": {
   "display_name": "Python 3",
   "language": "python",
   "name": "python3"
  },
  "language_info": {
   "codemirror_mode": {
    "name": "ipython",
    "version": 3
   },
   "file_extension": ".py",
   "mimetype": "text/x-python",
   "name": "python",
   "nbconvert_exporter": "python",
   "pygments_lexer": "ipython3",
   "version": "3.7.3"
  }
 },
 "nbformat": 4,
 "nbformat_minor": 4
}
