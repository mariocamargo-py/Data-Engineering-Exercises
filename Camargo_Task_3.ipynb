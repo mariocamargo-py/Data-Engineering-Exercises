{
 "cells": [
  {
   "cell_type": "markdown",
   "metadata": {},
   "source": [
    "Set up an array of ten random numbers between 100 and 500 (just one array with 10 numbers)."
   ]
  },
  {
   "cell_type": "code",
   "execution_count": 61,
   "metadata": {},
   "outputs": [],
   "source": [
    "\"\"\"Created on Sun Oct 4 18:43:04 2020\n",
    "@author: Mario Camargo\"\"\"\n",
    "\n",
    "# generate random integer values\n",
    "from numpy.random import seed\n",
    "from numpy.random import randint\n",
    "# seed random number generator\n",
    "seed(1)\n",
    "# generate some integers\n",
    "values1 = randint(100, 500, 10).tolist()\n",
    "values1.sort()"
   ]
  },
  {
   "cell_type": "markdown",
   "metadata": {},
   "source": [
    "Calculate the factorial of each of the numbers using a simple FOR loop.  Please capture the start/end times and store the results in an array, or linked list, or dictionary.  "
   ]
  },
  {
   "cell_type": "code",
   "execution_count": 62,
   "metadata": {},
   "outputs": [],
   "source": [
    "import time\n",
    "\n",
    "forFactList = []\n",
    "forFact = []\n",
    "\n",
    "for x in values1:\n",
    "    y=1\n",
    "    # store execution time for the loop\n",
    "    start_time = time.time()\n",
    "    \n",
    "    for i in range(1, x+1):\n",
    "        \n",
    "        y = y*i\n",
    "    \n",
    "    z = time.time() - start_time\n",
    "        \n",
    "    forFactList.append(y)\n",
    "    forFact.append(z)"
   ]
  },
  {
   "cell_type": "markdown",
   "metadata": {},
   "source": [
    "Calculate the factorial of each of the numbers using recursion.  Please capture the start/end times and store the results in an array, or linked list, or dictionary."
   ]
  },
  {
   "cell_type": "code",
   "execution_count": 64,
   "metadata": {},
   "outputs": [],
   "source": [
    "recFactList = []\n",
    "recFact = []\n",
    "    \n",
    "\n",
    "def fact(x):\n",
    "    if x == 1:\n",
    "        return 1\n",
    "    else:\n",
    "        return x * fact(x-1)\n",
    "    \n",
    "for i in values1:\n",
    "    # store execution time for recursion\n",
    "    start_time = time.time()\n",
    "    recFactList.append(fact(i))\n",
    "    y = time.time() - start_time\n",
    "    recFact.append(y)"
   ]
  },
  {
   "cell_type": "markdown",
   "metadata": {},
   "source": [
    "Organize the results of the study into a table showing the number, it's factorial, the time to calculate the factorial using recursion, the time to calculate factorial using FOR loop, and the difference between times."
   ]
  },
  {
   "cell_type": "code",
   "execution_count": 67,
   "metadata": {},
   "outputs": [
    {
     "name": "stdout",
     "output_type": "stream",
     "text": [
      "   number                                          factorial  \\\n",
      "0     137  5012888748274991661034926292112253883237205694...   \n",
      "1     172  2134551080774388656290725701457338867300561593...   \n",
      "2     233  9688098312403563764462819142711903273341070576...   \n",
      "3     244  1406686158591095782582355424847327315104888551...   \n",
      "4     303  8429835712576162669156835438871826823450494341...   \n",
      "5     335  1156323337476057938975353804080109126849124676...   \n",
      "6     355  6773767977667418360999114574273791421754222965...   \n",
      "7     435  3492568302586660806842386856444503662583831103...   \n",
      "8     493  1629065060950699000257933439287168591766043386...   \n",
      "9     496  1975842185597201155604039420988101025292970922...   \n",
      "\n",
      "                                       factorial_rec  time_for  \\\n",
      "0  5012888748274991661034926292112253883237205694...  0.000022   \n",
      "1  2134551080774388656290725701457338867300561593...  0.000023   \n",
      "2  9688098312403563764462819142711903273341070576...  0.000034   \n",
      "3  1406686158591095782582355424847327315104888551...  0.000034   \n",
      "4  8429835712576162669156835438871826823450494341...  0.000047   \n",
      "5  1156323337476057938975353804080109126849124676...  0.000057   \n",
      "6  6773767977667418360999114574273791421754222965...  0.000104   \n",
      "7  3492568302586660806842386856444503662583831103...  0.000150   \n",
      "8  1629065060950699000257933439287168591766043386...  0.000242   \n",
      "9  1975842185597201155604039420988101025292970922...  0.000231   \n",
      "\n",
      "   time_recursion      diff  \n",
      "0        0.000032 -0.000010  \n",
      "1        0.000032 -0.000009  \n",
      "2        0.000047 -0.000013  \n",
      "3        0.000046 -0.000012  \n",
      "4        0.000064 -0.000017  \n",
      "5        0.000075 -0.000018  \n",
      "6        0.000080  0.000024  \n",
      "7        0.000111  0.000039  \n",
      "8        0.000136  0.000106  \n",
      "9        0.000126  0.000105  \n"
     ]
    }
   ],
   "source": [
    "import pandas as pd\n",
    "df = pd.DataFrame()\n",
    "df['number'] = values1\n",
    "df['factorial'] = forFactList\n",
    "df['factorial_rec'] = recFactList\n",
    "df['time_for'] = forFact\n",
    "df['time_recursion'] = recFact\n",
    "df['diff'] = df.time_for - df.time_recursion\n",
    "print(df)"
   ]
  },
  {
   "cell_type": "markdown",
   "metadata": {},
   "source": [
    "Generate a graph with the number on the horizontal axis and with execution time in milliseconds on the vertical axis. The plot should show execution times of recursion and the loop."
   ]
  },
  {
   "cell_type": "code",
   "execution_count": 66,
   "metadata": {},
   "outputs": [
    {
     "data": {
      "image/png": "[encoded data removed]",
      "text/plain": [
       "<Figure size 432x288 with 1 Axes>"
      ]
     },
     "metadata": {
      "needs_background": "light"
     },
     "output_type": "display_data"
    }
   ],
   "source": [
    "df.plot(x='number', y=['time_for','time_recursion'], kind='line');"
   ]
  },
  {
   "cell_type": "markdown",
   "metadata": {},
   "source": [
    "Executive Summary\n",
    "\n",
    "\n",
    "The goal of this exercise was to compare the performance of an specific \"FOR loop\" and a \"recursive solution\" with an example.\n",
    "\n",
    "The task used for the measures was the calculation of factorial for a set of 10 numbers between 100 and 500.\n",
    "\n",
    "The results of the exercise can be observed in the graph at the button of the code, \"FOR loop\" was faster to calculate factorial for numbers smaller than 350, but after that point, recursion starts becoming more efficient. \n",
    "\n",
    "Some points in Recursive Vs Loop\n",
    "\n",
    "- Try not to use recursion in system critical locations.\n",
    "- Mathematicians prefer recursion, programmers prefer FOR loops.\n",
    "- Elegant solutions are not always the best performing when used in \"recursive situations\"."
   ]
  }
 ],
 "metadata": {
  "kernelspec": {
   "display_name": "Python 3",
   "language": "python",
   "name": "python3"
  },
  "language_info": {
   "codemirror_mode": {
    "name": "ipython",
    "version": 3
   },
   "file_extension": ".py",
   "mimetype": "text/x-python",
   "name": "python",
   "nbconvert_exporter": "python",
   "pygments_lexer": "ipython3",
   "version": "3.7.3"
  }
 },
 "nbformat": 4,
 "nbformat_minor": 4
}
