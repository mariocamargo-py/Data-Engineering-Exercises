{
 "cells": [
  {
   "cell_type": "markdown",
   "metadata": {},
   "source": [
    "Create a list of 100,000 names (randomly pick 10 characters e.g. abcdefghij, any order is fine, just make sure there are no duplicates in the name) and store those names in an unsorted list. Also store the above names in a set"
   ]
  },
  {
   "cell_type": "code",
   "execution_count": 74,
   "metadata": {},
   "outputs": [],
   "source": [
    "\"\"\"Created on Sun Oct 18 18:43:04 2020\n",
    "@author: Mario Camargo\"\"\"\n",
    "\n",
    "# generate some strings\n",
    "import random\n",
    "import string\n",
    "\n",
    "# string 1\n",
    "set1 = set()\n",
    "\n",
    "while len(values1) < 100000:\n",
    "    all_chars = list(string.ascii_letters)\n",
    "    random.shuffle(all_chars)\n",
    "    set1.add(''.join(all_chars[:10]))\n",
    "\n",
    "list1 = list(values1)"
   ]
  },
  {
   "cell_type": "markdown",
   "metadata": {},
   "source": [
    "Make a separate copy of the list and sort it using any sorting algorithm. In this case we will use Quick sort as it had the best performance in the last excercise (Capture the time it takes to sort the list):"
   ]
  },
  {
   "cell_type": "code",
   "execution_count": 78,
   "metadata": {},
   "outputs": [],
   "source": [
    "def quicksort(array):\n",
    "  if len(array) < 2:\n",
    "    # base case, arrays with 0 or 1 element are already \"sorted\"\n",
    "    return array\n",
    "  else:\n",
    "    # recursive case\n",
    "    pivot = array[0]\n",
    "    # sub-array of all the elements less than the pivot\n",
    "    less = [i for i in array[1:] if i <= pivot]\n",
    "    # sub-array of all the elements greater than the pivot\n",
    "    greater = [i for i in array[1:] if i > pivot]\n",
    "    return quicksort(less) + [pivot] + quicksort(greater)"
   ]
  },
  {
   "cell_type": "code",
   "execution_count": 79,
   "metadata": {},
   "outputs": [],
   "source": [
    "import time\n",
    "# store execution time for sorting the first array\n",
    "start_time = time.time()\n",
    "quick1 = quicksort(list1)\n",
    "quicktime1 = time.time() - start_time"
   ]
  },
  {
   "cell_type": "markdown",
   "metadata": {},
   "source": [
    "Pick the names from the unsorted array that are at 10,000th, 30,000th, 50,000th, 70,000th, 90,000th, and 100,000th positions, and store them in a temporary array somewhere for later use."
   ]
  },
  {
   "cell_type": "code",
   "execution_count": 80,
   "metadata": {},
   "outputs": [
    {
     "name": "stdout",
     "output_type": "stream",
     "text": [
      "['EwZaMTfsHv', 'qrSuaPAJvC', 'bradPhuOID', 'hFHzjQqBIU', 'wYxUDkjAOi', 'MkdhTBrDsX']\n"
     ]
    }
   ],
   "source": [
    "indices = [9999, 29999, 49999, 69999, 89999, 99999]\n",
    "\n",
    "selected_elements = [list1[index] for index in indices]\n",
    "\n",
    "print(selected_elements)"
   ]
  },
  {
   "cell_type": "markdown",
   "metadata": {},
   "source": [
    "Now search for these six names in each of the collections.  Use linear search for the unsorted list, binary search for the sorted list, and use the set.remove() (or the in keyword) builtin for the set.  Capture the time it takes using all three algorithms."
   ]
  },
  {
   "cell_type": "code",
   "execution_count": 81,
   "metadata": {},
   "outputs": [],
   "source": [
    "def search(arr, x): \n",
    "  \n",
    "    for i in range(len(arr)): \n",
    "  \n",
    "        if arr[i] == x: \n",
    "            return i \n",
    "  \n",
    "    return -1"
   ]
  },
  {
   "cell_type": "code",
   "execution_count": 82,
   "metadata": {},
   "outputs": [],
   "source": [
    "# store linear execution time for linear search 1st string\n",
    "start_time = time.time()\n",
    "    \n",
    "search(list1,'EwZaMTfsHv')\n",
    "    \n",
    "ln1 = time.time() - start_time"
   ]
  },
  {
   "cell_type": "code",
   "execution_count": 83,
   "metadata": {},
   "outputs": [],
   "source": [
    "# store linear execution time for linear search 2nd string\n",
    "start_time = time.time()\n",
    "    \n",
    "search(list1,'qrSuaPAJvC')\n",
    "    \n",
    "ln2 = time.time() - start_time"
   ]
  },
  {
   "cell_type": "code",
   "execution_count": 84,
   "metadata": {},
   "outputs": [],
   "source": [
    "# store linear execution time for linear search 3rd string\n",
    "start_time = time.time()\n",
    "    \n",
    "search(list1,'bradPhuOID')\n",
    "    \n",
    "ln3 = time.time() - start_time"
   ]
  },
  {
   "cell_type": "code",
   "execution_count": 85,
   "metadata": {},
   "outputs": [],
   "source": [
    "# store linear execution time for linear search 4th string\n",
    "start_time = time.time()\n",
    "    \n",
    "search(list1,'hFHzjQqBIU')\n",
    "    \n",
    "ln4 = time.time() - start_time"
   ]
  },
  {
   "cell_type": "code",
   "execution_count": 86,
   "metadata": {},
   "outputs": [],
   "source": [
    "# store linear execution time for linear search 5th string\n",
    "start_time = time.time()\n",
    "    \n",
    "search(list1,'wYxUDkjAOi')\n",
    "    \n",
    "ln5 = time.time() - start_time"
   ]
  },
  {
   "cell_type": "code",
   "execution_count": 87,
   "metadata": {},
   "outputs": [],
   "source": [
    "# store linear execution time for linear search 6th string\n",
    "start_time = time.time()\n",
    "    \n",
    "search(list1,'MkdhTBrDsX')\n",
    "    \n",
    "ln6 = time.time() - start_time"
   ]
  },
  {
   "cell_type": "code",
   "execution_count": 88,
   "metadata": {},
   "outputs": [],
   "source": [
    "class BinarySearch():\n",
    "\n",
    "  def search_iterative(self, list, item):\n",
    "    # low and high keep track of which part of the list you'll search in.\n",
    "    low = 0\n",
    "    high = len(list) - 1\n",
    "\n",
    "    # While you haven't narrowed it down to one element ...\n",
    "    while low <= high:\n",
    "      # ... check the middle element\n",
    "      mid = (low + high) // 2\n",
    "      guess = list[mid]\n",
    "      # Found the item.\n",
    "      if guess == item:\n",
    "        return mid\n",
    "      # The guess was too high.\n",
    "      if guess > item:\n",
    "        high = mid - 1\n",
    "      # The guess was too low.\n",
    "      else:\n",
    "        low = mid + 1\n",
    "\n",
    "    # Item doesn't exist\n",
    "    return None\n",
    "\n",
    "  def search_recursive(self, list, low, high, item):\n",
    "    # Check base case \n",
    "    if high >= low: \n",
    "  \n",
    "        mid = (high + low) // 2\n",
    "        guess = list[mid]\n",
    "  \n",
    "        # If element is present at the middle itself \n",
    "        if guess == item:\n",
    "            return mid \n",
    "  \n",
    "        # If element is smaller than mid, then it can only \n",
    "        # be present in left subarray \n",
    "        elif guess > item: \n",
    "            return self.search_recursive(list, low, mid - 1, item) \n",
    "  \n",
    "        # Else the element can only be present in right subarray \n",
    "        else: \n",
    "            return self.search_recursive(list, mid + 1, high, item) \n",
    "  \n",
    "    else: \n",
    "        # Element is not present in the array \n",
    "        return None\n",
    "\n",
    "if __name__ == \"__main__\":\n",
    "  # We must initialize the class to use the methods of this class\n",
    "  bs = BinarySearch()"
   ]
  },
  {
   "cell_type": "code",
   "execution_count": 89,
   "metadata": {},
   "outputs": [],
   "source": [
    "# store execution time for the binary search for the 1st string\n",
    "start_time = time.time()\n",
    "    \n",
    "bs.search_iterative(quick1,'EwZaMTfsHv')\n",
    "    \n",
    "bn1 = time.time() - start_time"
   ]
  },
  {
   "cell_type": "code",
   "execution_count": 90,
   "metadata": {},
   "outputs": [],
   "source": [
    "# store execution time for the binary search for the 2nd string\n",
    "start_time = time.time()\n",
    "    \n",
    "bs.search_iterative(quick1,'qrSuaPAJvC')\n",
    "    \n",
    "bn2 = time.time() - start_time"
   ]
  },
  {
   "cell_type": "code",
   "execution_count": 91,
   "metadata": {},
   "outputs": [],
   "source": [
    "# store execution time for the binary search for the 3rd string\n",
    "start_time = time.time()\n",
    "    \n",
    "bs.search_iterative(quick1,'bradPhuOID')\n",
    "    \n",
    "bn3 = time.time() - start_time"
   ]
  },
  {
   "cell_type": "code",
   "execution_count": 92,
   "metadata": {},
   "outputs": [],
   "source": [
    "# store execution time for the binary search for the 4th string\n",
    "start_time = time.time()\n",
    "    \n",
    "bs.search_iterative(quick1,'hFHzjQqBIU')\n",
    "    \n",
    "bn4 = time.time() - start_time"
   ]
  },
  {
   "cell_type": "code",
   "execution_count": 93,
   "metadata": {},
   "outputs": [],
   "source": [
    "# store execution time for the binary search for the 5th string\n",
    "start_time = time.time()\n",
    "    \n",
    "bs.search_iterative(quick1,'wYxUDkjAOi')\n",
    "    \n",
    "bn5 = time.time() - start_time"
   ]
  },
  {
   "cell_type": "code",
   "execution_count": 94,
   "metadata": {},
   "outputs": [],
   "source": [
    "# store execution time for the binary search for the 6th string\n",
    "start_time = time.time()\n",
    "    \n",
    "bs.search_iterative(quick1,'MkdhTBrDsX')\n",
    "    \n",
    "bn6 = time.time() - start_time"
   ]
  },
  {
   "cell_type": "code",
   "execution_count": 95,
   "metadata": {},
   "outputs": [],
   "source": [
    "# store execution time for in set for the 1st string\n",
    "start_time = time.time()\n",
    "    \n",
    "'EwZaMTfsHv' in set1\n",
    "    \n",
    "in1 = time.time() - start_time"
   ]
  },
  {
   "cell_type": "code",
   "execution_count": 96,
   "metadata": {},
   "outputs": [],
   "source": [
    "# store execution time for in set for the 2nd string\n",
    "start_time = time.time()\n",
    "    \n",
    "'qrSuaPAJvC' in set1\n",
    "    \n",
    "in2 = time.time() - start_time"
   ]
  },
  {
   "cell_type": "code",
   "execution_count": 97,
   "metadata": {},
   "outputs": [],
   "source": [
    "# store execution time for in set for the 3rd string\n",
    "start_time = time.time()\n",
    "    \n",
    "'bradPhuOID' in set1\n",
    "    \n",
    "in3 = time.time() - start_time"
   ]
  },
  {
   "cell_type": "code",
   "execution_count": 98,
   "metadata": {},
   "outputs": [],
   "source": [
    "# store execution time for in set for the 4th string\n",
    "start_time = time.time()\n",
    "    \n",
    "'hFHzjQqBIU' in set1\n",
    "    \n",
    "in4 = time.time() - start_time"
   ]
  },
  {
   "cell_type": "code",
   "execution_count": 99,
   "metadata": {},
   "outputs": [],
   "source": [
    "# store execution time for in set for the 5th string\n",
    "start_time = time.time()\n",
    "    \n",
    "'wYxUDkjAOi' in set1\n",
    "    \n",
    "in5 = time.time() - start_time"
   ]
  },
  {
   "cell_type": "code",
   "execution_count": 100,
   "metadata": {},
   "outputs": [],
   "source": [
    "# store execution time for in set for the 6th string\n",
    "start_time = time.time()\n",
    "    \n",
    "'MkdhTBrDsX' in set1\n",
    "    \n",
    "in6 = time.time() - start_time"
   ]
  },
  {
   "cell_type": "markdown",
   "metadata": {},
   "source": [
    "Create a table and plot comparing times of linear search, binary search and set lookup for the six names to illustrate algorithm performance. "
   ]
  },
  {
   "cell_type": "code",
   "execution_count": 101,
   "metadata": {},
   "outputs": [],
   "source": [
    "import pandas as pd\n",
    "df = pd.DataFrame({'Name':['EwZaMTfsHv', 'qrSuaPAJvC', 'bradPhuOID', 'hFHzjQqBIU', 'wYxUDkjAOi', 'MkdhTBrDsX'],\n",
    "                   'Linear Time':[ln1,ln2,ln3,ln4,ln5,ln6],\n",
    "                   'Binary Time':[bn1,bn2,bn3,bn4,bn5,bn6],\n",
    "                   'Set Time':[in1,in2,in3,in4,in5,in6]\n",
    "                  }) "
   ]
  },
  {
   "cell_type": "code",
   "execution_count": 102,
   "metadata": {},
   "outputs": [
    {
     "name": "stdout",
     "output_type": "stream",
     "text": [
      "         Name  Linear Time  Binary Time  Set Time\n",
      "0  EwZaMTfsHv     0.001724     0.000115  0.000078\n",
      "1  qrSuaPAJvC     0.004885     0.000072  0.000054\n",
      "2  bradPhuOID     0.009653     0.000054  0.000058\n",
      "3  hFHzjQqBIU     0.010719     0.000071  0.000054\n",
      "4  wYxUDkjAOi     0.013367     0.000069  0.000054\n",
      "5  MkdhTBrDsX     0.015670     0.000055  0.000054\n"
     ]
    }
   ],
   "source": [
    "print(df)"
   ]
  },
  {
   "cell_type": "code",
   "execution_count": 105,
   "metadata": {},
   "outputs": [
    {
     "data": {
      "image/png": "[encoded data removed]",
      "text/plain": [
       "<Figure size 432x288 with 1 Axes>"
      ]
     },
     "metadata": {
      "needs_background": "light"
     },
     "output_type": "display_data"
    }
   ],
   "source": [
    "df.plot(x='Name', y=['Linear Time','Binary Time','Set Time'], kind='line');"
   ]
  },
  {
   "cell_type": "code",
   "execution_count": 106,
   "metadata": {},
   "outputs": [
    {
     "data": {
      "image/png": "[encoded data removed]",
      "text/plain": [
       "<Figure size 432x288 with 1 Axes>"
      ]
     },
     "metadata": {
      "needs_background": "light"
     },
     "output_type": "display_data"
    }
   ],
   "source": [
    "df.plot(x='Name', y=['Binary Time','Set Time'], kind='line');"
   ]
  },
  {
   "cell_type": "markdown",
   "metadata": {},
   "source": [
    "Executive Summary\n",
    "\n",
    "The purpose of this exercise is to measure the effectiveness of three different searching methods, the first two of them (linear and binary search) compare two ways of searching values in the same type of data structure (a list).   While the third technique (\"in\" in a Set) uses a different data structure compared to search and binary. \n",
    "\n",
    "A Linear search is basically going value by value looking for the name that we want to find in the list of strings, this takes a lot of time specially if the value is far away from the beginning of the list, the O notation for linear search is O(n).\n",
    "\n",
    "The Binary search uses a more efficient technique to look for a value in a sorted list, this improves the time of the search as there is no need to scan every single value, this search uses a O(log n) notation.\n",
    "\n",
    "The final method is a Set (a data structure in Python that uses a hashtable as its underlying data structure). This table has a O(1) notation, in this case, there is no need to scan any value different that the one we are looking for as each item is stored with a label for easier recollection. \n",
    "\n",
    "The results of the exercise shows that using the function \"in\" on a set in Python is very effective compared to Linear search and slightly more effective compared to a Binary search."
   ]
  }
 ],
 "metadata": {
  "kernelspec": {
   "display_name": "Python 3",
   "language": "python",
   "name": "python3"
  },
  "language_info": {
   "codemirror_mode": {
    "name": "ipython",
    "version": 3
   },
   "file_extension": ".py",
   "mimetype": "text/x-python",
   "name": "python",
   "nbconvert_exporter": "python",
   "pygments_lexer": "ipython3",
   "version": "3.7.3"
  }
 },
 "nbformat": 4,
 "nbformat_minor": 4
}
